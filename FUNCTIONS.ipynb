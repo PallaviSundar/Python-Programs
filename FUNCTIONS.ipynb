{
  "nbformat": 4,
  "nbformat_minor": 0,
  "metadata": {
    "colab": {
      "provenance": [],
      "authorship_tag": "ABX9TyPN3LBkhyiK+JLmbup50k7+",
      "include_colab_link": true
    },
    "kernelspec": {
      "name": "python3",
      "display_name": "Python 3"
    },
    "language_info": {
      "name": "python"
    }
  },
  "cells": [
    {
      "cell_type": "markdown",
      "metadata": {
        "id": "view-in-github",
        "colab_type": "text"
      },
      "source": [
        "<a href=\"https://colab.research.google.com/github/PallaviSundar/Python-Programs/blob/main/FUNCTIONS.ipynb\" target=\"_parent\"><img src=\"https://colab.research.google.com/assets/colab-badge.svg\" alt=\"Open In Colab\"/></a>"
      ]
    },
    {
      "cell_type": "code",
      "execution_count": null,
      "metadata": {
        "colab": {
          "base_uri": "https://localhost:8080/"
        },
        "id": "1e3J9Qh5Q6BP",
        "outputId": "d5dca946-c229-4dc3-f4e5-51235378e1de"
      },
      "outputs": [
        {
          "output_type": "stream",
          "name": "stdout",
          "text": [
            "[1, 4, 9, 16, 25]\n"
          ]
        }
      ],
      "source": [
        "def square(*n):\n",
        "  return [num**2 for num in n]\n",
        "print(square(1,2,3,4,5))"
      ]
    },
    {
      "cell_type": "code",
      "source": [
        "o=lambda a,b:a+b\n",
        "print(o(1,2))"
      ],
      "metadata": {
        "colab": {
          "base_uri": "https://localhost:8080/"
        },
        "id": "TLtHRDqymbHC",
        "outputId": "d3a98cfd-7179-4ca6-9f92-3618d156c856"
      },
      "execution_count": null,
      "outputs": [
        {
          "output_type": "stream",
          "name": "stdout",
          "text": [
            "3\n"
          ]
        }
      ]
    },
    {
      "cell_type": "code",
      "source": [
        "o=list(map(lambda a:a**2,[1,2,3,4,5]))\n",
        "print(o)"
      ],
      "metadata": {
        "colab": {
          "base_uri": "https://localhost:8080/"
        },
        "id": "6ONGk4inmkme",
        "outputId": "33879a81-3494-4360-a16f-7f5e6eceb2a9"
      },
      "execution_count": null,
      "outputs": [
        {
          "output_type": "stream",
          "name": "stdout",
          "text": [
            "[1, 4, 9, 16, 25]\n"
          ]
        }
      ]
    },
    {
      "cell_type": "code",
      "source": [
        "o=list(filter(lambda a:a%2==0,[1,2,3,4,5]))\n",
        "print(o)"
      ],
      "metadata": {
        "colab": {
          "base_uri": "https://localhost:8080/"
        },
        "id": "34jTo4M2msNE",
        "outputId": "7bc0d1a4-3f5c-44c2-9798-f3df8e9b10ab"
      },
      "execution_count": null,
      "outputs": [
        {
          "output_type": "stream",
          "name": "stdout",
          "text": [
            "[2, 4]\n"
          ]
        }
      ]
    },
    {
      "cell_type": "code",
      "source": [
        "from functools import reduce\n",
        "o=reduce(lambda a,b:a+b,[1,2,3,4,5])\n",
        "print(o)"
      ],
      "metadata": {
        "colab": {
          "base_uri": "https://localhost:8080/"
        },
        "id": "QrxbFnnymw7m",
        "outputId": "771b5b7c-0ca5-4fec-9ef6-63198ecb693d"
      },
      "execution_count": null,
      "outputs": [
        {
          "output_type": "stream",
          "name": "stdout",
          "text": [
            "15\n"
          ]
        }
      ]
    },
    {
      "cell_type": "markdown",
      "source": [
        "## Scenario based questions"
      ],
      "metadata": {
        "id": "K_Ht5zCum1eo"
      }
    },
    {
      "cell_type": "markdown",
      "source": [
        "### 1.)How many Pizza Slices did you get?\n",
        "You and your friends have ordered a large pizza. You want to ensure that everyone gets an equal number of slices. Write a Python function calculate_slices() that takes the number of people and the total pizza slices as input and returns the number of slices each person gets. If slices can’t be divided equally, print how many remain."
      ],
      "metadata": {
        "id": "mvcjF1h8nbrN"
      }
    },
    {
      "cell_type": "code",
      "source": [
        "def calculate_slices(people, slices):\n",
        "    each_person = slices // people\n",
        "    remaining = slices % people\n",
        "    return each_person, remaining\n",
        "\n",
        "people = int(input(\"Enter the number of people: \"))\n",
        "slices = int(input(\"Enter the total number of pizza slices: \"))\n",
        "\n",
        "each, left = calculate_slices(people, slices)\n",
        "print(f\"Each person gets {each} slices.\")\n",
        "if left > 0:\n",
        "    print(f\"{left} slice(s) remain.\")"
      ],
      "metadata": {
        "colab": {
          "base_uri": "https://localhost:8080/"
        },
        "id": "sgfbWchDm67-",
        "outputId": "12925c06-7b26-4954-b23a-4da62f6980a4"
      },
      "execution_count": null,
      "outputs": [
        {
          "output_type": "stream",
          "name": "stdout",
          "text": [
            "Enter the number of people: 10\n",
            "Enter the total number of pizza slices: 12\n",
            "Each person gets 1 slices.\n",
            "2 slice(s) remain.\n"
          ]
        }
      ]
    },
    {
      "cell_type": "markdown",
      "source": [
        "## 2.)Speeding Ticket Checker\n",
        "A traffic police officer checks if a car is speeding. The speed limit is 60 km/h. Write a function check_speed(speed) that takes the car’s speed as input and prints if the driver is “Safe”, “Warning”, or “Over Speeding”."
      ],
      "metadata": {
        "id": "EFFKfaTUoRZY"
      }
    },
    {
      "cell_type": "code",
      "source": [
        "def check_speed(speed):\n",
        "    if speed <= 60:\n",
        "        print(\"Safe\")\n",
        "    elif speed <= 80:\n",
        "        print(\"Warning\")\n",
        "    else:\n",
        "        print(\"Over Speeding!\")\n",
        "\n",
        "speed = int(input(\"Enter the car speed: \"))\n",
        "check_speed(speed)"
      ],
      "metadata": {
        "colab": {
          "base_uri": "https://localhost:8080/"
        },
        "id": "q1wGNrgNorQ8",
        "outputId": "c78ef4e1-1b83-4d70-933c-429038209040"
      },
      "execution_count": null,
      "outputs": [
        {
          "output_type": "stream",
          "name": "stdout",
          "text": [
            "Enter the car speed: 70\n",
            "Warning\n"
          ]
        }
      ]
    },
    {
      "cell_type": "markdown",
      "source": [
        "## 3.)Temperature Converter\n",
        "you are conducting a science experiment in your lab practical, where precise temperature measurements are crucial. However, the thermometer provided measures temperature in Celsius, while your experiment requires readings in Fahrenheit. To ensure accuracy in your observations and calculations, you decide to write a function that converts temperature from Celsius to Fahrenheit."
      ],
      "metadata": {
        "id": "FmS4O1Q-oz7x"
      }
    },
    {
      "cell_type": "code",
      "source": [
        "def convert_temp(celsius):\n",
        "    return (celsius * 9/5) + 32\n",
        "\n",
        "celsius = float(input(\"Enter temperature in Celsius: \"))\n",
        "fahrenheit = convert_temp(celsius)\n",
        "print(f\"Temperature in Fahrenheit: {fahrenheit:.2f}\")"
      ],
      "metadata": {
        "colab": {
          "base_uri": "https://localhost:8080/"
        },
        "id": "RrLQNIG4ptVb",
        "outputId": "6c19563f-b094-455a-c85f-bf7afaa02e5e"
      },
      "execution_count": null,
      "outputs": [
        {
          "output_type": "stream",
          "name": "stdout",
          "text": [
            "Enter temperature in Celsius: 30\n",
            "Temperature in Fahrenheit: 86.00\n"
          ]
        }
      ]
    },
    {
      "cell_type": "markdown",
      "source": [
        "## 3.) Area Calculator\n",
        "You are building a geometry calculator for a school project to assist students in calculating the area or volume of different shapes. The goal is to create a single function that can handle multiple shapes based on the number of arguments provided:If one argument is given, the shape is assumed to be a circle, and the function calculates the area using the formula: π×r^2.If two arguments are given, the shape is assumed to be a rectangle, and the function calculates the area using the formula: length × width.If three arguments are given, the shape is assumed to be a cuboid, and the function calculates the volume using the formula: length × width × height"
      ],
      "metadata": {
        "id": "uMdkJ-BEqSjh"
      }
    },
    {
      "cell_type": "code",
      "source": [
        "def calculate_area(a, b=None, c=None):\n",
        "    if b is None and c is None:\n",
        "        return 3.14159 * a * a  # Circle area using π approximated\n",
        "    elif c is None:\n",
        "        return a * b  # Rectangle area\n",
        "    else:\n",
        "        return a * b * c  # Cuboid volume\n",
        "\n",
        "print(\"Circle Area:\", calculate_area(5))\n",
        "print(\"Rectangle Area:\", calculate_area(4, 6))\n",
        "print(\"Cuboid Volume:\", calculate_area(3, 4, 5))"
      ],
      "metadata": {
        "colab": {
          "base_uri": "https://localhost:8080/"
        },
        "id": "_7sw50zGqep5",
        "outputId": "a94fd6f6-6956-4b87-a59f-fab05bf4465f"
      },
      "execution_count": null,
      "outputs": [
        {
          "output_type": "stream",
          "name": "stdout",
          "text": [
            "Circle Area: 78.53975\n",
            "Rectangle Area: 24\n",
            "Cuboid Volume: 60\n"
          ]
        }
      ]
    },
    {
      "cell_type": "markdown",
      "source": [
        "## 4.)Is it a Prime Number?\n",
        "Imagine you are building a number analysis tool for a math class project. One of the requirements is to implement a function that checks whether a given number is prime or not. A prime number is a number greater than 1 that has no divisors other than 1 and itself. This function will help students quickly determine if a number is prime, which is essential for understanding factors, divisibility, and prime factorization"
      ],
      "metadata": {
        "id": "OdiSUvr4qiyq"
      }
    },
    {
      "cell_type": "code",
      "source": [
        "def is_prime(n):\n",
        "    if n < 2:\n",
        "        return False  # Numbers less than 2 are not prime\n",
        "    for i in range(2, int(n**0.5) + 1):\n",
        "        if n % i == 0:  # If divisible by any number other than 1 and itself\n",
        "            return False\n",
        "    return True\n",
        "\n",
        "num = int(input(\"Enter a number: \"))  # Ask the user to input a number\n",
        "print(f\"Is {num} prime? {is_prime(num)}\")  # Check if the number is prime"
      ],
      "metadata": {
        "colab": {
          "base_uri": "https://localhost:8080/"
        },
        "id": "Ruv9FPXMrKCm",
        "outputId": "fcab4a89-3f1d-4978-8806-7499dc1f65b9"
      },
      "execution_count": null,
      "outputs": [
        {
          "output_type": "stream",
          "name": "stdout",
          "text": [
            "Enter a number: 7\n",
            "Is 7 prime? True\n"
          ]
        }
      ]
    },
    {
      "cell_type": "markdown",
      "source": [
        "## 5.) Generate Multiplication Table\n",
        "You are helping your younger sibling prepare for a math quiz by creating a simple multiplication table generator. Instead of manually writing out tables, you decide to write a Python function that takes any number as input and displays its multiplication table up to 10. This tool will make it easier for your sibling to practice and learn multiplication quickly."
      ],
      "metadata": {
        "id": "ATOPi1p7rYJa"
      }
    },
    {
      "cell_type": "code",
      "source": [
        "def multiplication_table(n):\n",
        "    for i in range(1, 11):  # Loop from 1 to 10\n",
        "        print(f\"{n} x {i} = {n * i}\")\n",
        "\n",
        "num = int(input(\"Enter a number: \"))\n",
        "multiplication_table(num)"
      ],
      "metadata": {
        "colab": {
          "base_uri": "https://localhost:8080/"
        },
        "id": "3mCGwbGXrhhx",
        "outputId": "e31171bf-9ca0-4c5b-91db-96d61fbf502e"
      },
      "execution_count": null,
      "outputs": [
        {
          "output_type": "stream",
          "name": "stdout",
          "text": [
            "Enter a number: 256\n",
            "256 x 1 = 256\n",
            "256 x 2 = 512\n",
            "256 x 3 = 768\n",
            "256 x 4 = 1024\n",
            "256 x 5 = 1280\n",
            "256 x 6 = 1536\n",
            "256 x 7 = 1792\n",
            "256 x 8 = 2048\n",
            "256 x 9 = 2304\n",
            "256 x 10 = 2560\n"
          ]
        }
      ]
    },
    {
      "cell_type": "markdown",
      "source": [
        "## 6.)Digit Payment System\n",
        "You are developing a secure and flexible digital payment system for an online shopping platform. Since users prefer different payment methods, your system needs to handle various options:Card Payment: When users enter only the amount, it is processed as a standard card payment.Card Payment with CVV: If users provide the amount and a CVV, an extra security check is performed.Online Wallet Payment: If users pay via an online wallet, they must enter their email and transaction ID for verification.For smooth transactions, you create a function that processes payments based on the number of arguments provided.\n"
      ],
      "metadata": {
        "id": "y701lrNIrr7G"
      }
    },
    {
      "cell_type": "code",
      "source": [
        "def process_payment(*args):\n",
        "    if len(args) == 1:\n",
        "        return f\"Payment of ${args[0]} processed using Card.\"\n",
        "    elif len(args) == 2:\n",
        "        return f\"Payment of ${args[0]} processed using Card with CVV {args[1]}.\"\n",
        "    elif len(args) == 3:\n",
        "        return f\"Payment of ${args[0]} processed via Wallet ({args[1]}) with transaction ID {args[2]}.\"\n",
        "    else:\n",
        "        return \"Invalid payment method.\"\n",
        "\n",
        "payment_method = int(input(\"Select Payment Method: \\n1. Card Payment\\n2. Card Payment with CVV\\n3. Online Wallet\\nEnter choice (1-3): \"))\n",
        "\n",
        "if payment_method == 1:\n",
        "    amount = float(input(\"Enter payment amount: \"))\n",
        "    print(process_payment(amount))\n",
        "\n",
        "elif payment_method == 2:\n",
        "    amount = float(input(\"Enter payment amount: \"))\n",
        "    cvv = int(input(\"Enter CVV: \"))\n",
        "    print(process_payment(amount, cvv))\n",
        "\n",
        "elif payment_method == 3:\n",
        "    amount = float(input(\"Enter payment amount: \"))\n",
        "    email = input(\"Enter wallet email: \")\n",
        "    txn_id = input(\"Enter transaction ID: \")\n",
        "    print(process_payment(amount, email, txn_id))\n",
        "\n",
        "else:\n",
        "    print(\"Invalid choice! Please select a valid payment method.\")"
      ],
      "metadata": {
        "colab": {
          "base_uri": "https://localhost:8080/"
        },
        "id": "bNs7rUimr8_p",
        "outputId": "99d2d9c6-6f5f-4311-ef56-575c50a38df6"
      },
      "execution_count": null,
      "outputs": [
        {
          "output_type": "stream",
          "name": "stdout",
          "text": [
            "Select Payment Method: \n",
            "1. Card Payment\n",
            "2. Card Payment with CVV\n",
            "3. Online Wallet\n",
            "Enter choice (1-3): 3\n",
            "Enter payment amount: 19272\n",
            "Enter wallet email: pallavi@gmail\n",
            "Enter transaction ID: 12345\n",
            "Payment of $19272.0 processed via Wallet (pallavi@gmail) with transaction ID 12345.\n"
          ]
        }
      ]
    },
    {
      "cell_type": "markdown",
      "source": [
        "## 7.)Give the Toll Tax\n",
        "Suppose you are traveling on a highway and approach a toll plaza. The toll charges vary depending on the type of vehicle. A car is charged $5, a truck is charged $10, and a bike is charged $2. The system should ask for the vehicle type and display the corresponding toll tax. If the vehicle type is incorrect, it should show an invalid vehicle type message."
      ],
      "metadata": {
        "id": "VdeNLoM5sdWW"
      }
    },
    {
      "cell_type": "code",
      "source": [
        "def toll_tax(vehicle_type):\n",
        "    vehicle_type = vehicle_type.lower()  # Convert input to lowercase for consistency\n",
        "\n",
        "    if vehicle_type == \"car\":\n",
        "        return 5\n",
        "    elif vehicle_type == \"truck\":\n",
        "        return 10\n",
        "    elif vehicle_type == \"bike\":\n",
        "        return 2\n",
        "    else:\n",
        "        return \"Invalid vehicle type\"\n",
        "\n",
        "vehicle = input(\"Enter vehicle type (car/truck/bike): \")\n",
        "tax = toll_tax(vehicle)\n",
        "\n",
        "print(f\"Toll tax: ${tax}\")"
      ],
      "metadata": {
        "colab": {
          "base_uri": "https://localhost:8080/"
        },
        "id": "QIVZUo4SspGd",
        "outputId": "4ba5fd41-dbc5-4922-a204-ee91fe88c35e"
      },
      "execution_count": null,
      "outputs": [
        {
          "output_type": "stream",
          "name": "stdout",
          "text": [
            "Enter vehicle type (car/truck/bike): car\n",
            "Toll tax: $5\n"
          ]
        }
      ]
    },
    {
      "cell_type": "markdown",
      "source": [
        "## 8.)2D Matrix Sum\n",
        "You are working on a data analysis project that involves processing a 2D matrix containing numerical data. One of the tasks requires calculating the sum of all elements in the matrix to analyze the total value. You need to write a function that takes a 2D list (matrix) as input and returns the sum of all its elements."
      ],
      "metadata": {
        "id": "bqxxZbJls6o8"
      }
    },
    {
      "cell_type": "code",
      "source": [
        "def sum_matrix(matrix):\n",
        "    total = 0\n",
        "    for row in matrix:  # Loop through each row\n",
        "        for num in row:  # Loop through each element in the row\n",
        "            total += num  # Add element to total\n",
        "    return total\n",
        "\n",
        "# Taking input for matrix dimensions\n",
        "rows = int(input(\"Enter number of rows: \"))\n",
        "cols = int(input(\"Enter number of columns: \"))\n",
        "\n",
        "# Initializing an empty matrix\n",
        "matrix = []\n",
        "\n",
        "# Taking user input for the matrix\n",
        "print(\"Enter the matrix elements row by row:\")\n",
        "for i in range(rows):\n",
        "    row = []\n",
        "    for j in range(cols):\n",
        "        row.append(int(input(f\"Element [{i+1},{j+1}]: \")))  # Take integer input\n",
        "    matrix.append(row)\n",
        "\n",
        "print(\"\\nEntered Matrix:\")\n",
        "for row in matrix:\n",
        "    print(row)\n",
        "\n",
        "print(f\"\\nSum of all elements: {sum_matrix(matrix)}\")"
      ],
      "metadata": {
        "colab": {
          "base_uri": "https://localhost:8080/"
        },
        "id": "Tuu2GPjttDOA",
        "outputId": "73fddf72-190a-44ea-fc10-a67080671d65"
      },
      "execution_count": null,
      "outputs": [
        {
          "output_type": "stream",
          "name": "stdout",
          "text": [
            "Enter number of rows: 2\n",
            "Enter number of columns: 3\n",
            "Enter the matrix elements row by row:\n",
            "Element [1,1]: 10\n",
            "Element [1,2]: 24\n",
            "Element [1,3]: 23\n",
            "Element [2,1]: 23\n",
            "Element [2,2]: 23\n",
            "Element [2,3]: 34\n",
            "\n",
            "Entered Matrix:\n",
            "[10, 24, 23]\n",
            "[23, 23, 34]\n",
            "\n",
            "Sum of all elements: 137\n"
          ]
        }
      ]
    },
    {
      "cell_type": "markdown",
      "source": [
        "## 9.)Smart Expense Manager\n",
        "For instance you want to build a simple expense tracker that helps you record daily expenses. The program should:Add expenses by taking the item name and amount spent.Calculate the total expenses manually without using built-in sum functions.Find the most expensive item without using predefined functions like max().This will allow you to track your spending habits and identify where most of your money goes.\n"
      ],
      "metadata": {
        "id": "FizwaxY1thHh"
      }
    },
    {
      "cell_type": "code",
      "source": [
        "# Function to add an expense\n",
        "def add_expense(items, amounts, item, amount):\n",
        "    items.append(item)   # Store item name\n",
        "    amounts.append(amount)  # Store item cost\n",
        "\n",
        "# Function to calculate total expenses manually\n",
        "def calculate_total(amounts):\n",
        "    total = 0\n",
        "    for amount in amounts:  # Loop through all expense amounts\n",
        "        total += amount  # Add amount to total\n",
        "    return total\n",
        "\n",
        "# Function to find the most expensive item\n",
        "def most_expensive_item(items, amounts):\n",
        "    max_index = 0  # Assume first item is the most expensive\n",
        "    for i in range(1, len(amounts)):  # Iterate through amounts list\n",
        "        if amounts[i] > amounts[max_index]:  # Compare values\n",
        "            max_index = i  # Update index if a higher value is found\n",
        "    return items[max_index]  # Return the most expensive item's name\n",
        "\n",
        "items = []  # List to store item names\n",
        "amounts = []  # List to store expense amounts\n",
        "\n",
        "n = int(input(\"Enter number of expenses: \"))\n",
        "\n",
        "for _ in range(n):\n",
        "    item = input(\"Enter item name: \")\n",
        "    amount = float(input(f\"Enter amount spent on {item}: $\"))\n",
        "    add_expense(items, amounts, item, amount)\n",
        "\n",
        "print(f\"\\nTotal expenses: ${calculate_total(amounts):.2f}\")\n",
        "print(f\"Most expensive item: {most_expensive_item(items, amounts)}\")"
      ],
      "metadata": {
        "colab": {
          "base_uri": "https://localhost:8080/"
        },
        "id": "-ERQUb-BwODH",
        "outputId": "dded2631-8c8d-45a2-b921-42216698de03"
      },
      "execution_count": null,
      "outputs": [
        {
          "output_type": "stream",
          "name": "stdout",
          "text": [
            "Enter number of expenses: 2\n",
            "Enter item name: fruit\n",
            "Enter amount spent on fruit: $200\n",
            "Enter item name: bangle\n",
            "Enter amount spent on bangle: $200\n",
            "\n",
            "Total expenses: $400.00\n",
            "Most expensive item: fruit\n"
          ]
        }
      ]
    },
    {
      "cell_type": "markdown",
      "source": [
        "## 10.)Ride Fare Split\n",
        "A group of friends goes out for dinner and takes a taxi home. They decide to split the taxi fare among themselves, including a tip for the driver. However, one of them offers to pay extra upfront, so the others need to adjust their shares to settle the amount fairly.The program will:Calculate the total fare, including the tip.Divide the total cost equally among all passengers.Adjust payments if someone has already paid extra."
      ],
      "metadata": {
        "id": "JRRB0OBfw4ko"
      }
    },
    {
      "cell_type": "code",
      "source": [
        "# Function to calculate total fare with tip\n",
        "def calculate_fare(base_fare, tip_percent):\n",
        "    tip_amount = (base_fare * tip_percent) / 100  # Calculate tip amount\n",
        "    return base_fare + tip_amount  # Add tip to base fare\n",
        "\n",
        "# Function to split the fare equally among passengers\n",
        "def split_fare(total_fare, num_people):\n",
        "    return round(total_fare / num_people, 2)  # Divide and round to 2 decimal places\n",
        "\n",
        "# Function to adjust payments if someone paid extra\n",
        "def extra_payment_adjustment(total_fare, extra_paid, num_people):\n",
        "    each_share = total_fare / num_people  # Calculate individual share\n",
        "    return round(each_share - extra_paid, 2)  # Adjust for extra payment\n",
        "\n",
        "base_fare = float(input(\"Enter the taxi fare: $\"))\n",
        "tip_percent = float(input(\"Enter tip percentage: \"))\n",
        "num_people = int(input(\"Enter number of passengers: \"))\n",
        "\n",
        "# Calculate total fare and equal split\n",
        "total_fare = calculate_fare(base_fare, tip_percent)\n",
        "equal_split = split_fare(total_fare, num_people)\n",
        "\n",
        "print(f\"\\nTotal fare (including tip): ${total_fare:.2f}\")\n",
        "print(f\"Each person should pay: ${equal_split}\")\n",
        "\n",
        "# Check if someone paid extra\n",
        "extra_person = input(\"\\nDid anyone pay extra? (yes/no): \").strip().lower()\n",
        "if extra_person == \"yes\":\n",
        "    name = input(\"Enter the name of the person who paid extra: \")\n",
        "    extra_paid = float(input(f\"How much extra did {name} pay? $\"))\n",
        "    adjusted_amount = extra_payment_adjustment(total_fare, extra_paid, num_people)\n",
        "\n",
        "    if adjusted_amount < 0:\n",
        "        print(f\"{name} should get back ${-adjusted_amount} from others.\")\n",
        "    else:\n",
        "        print(f\"{name} still needs to pay ${adjusted_amount}.\")"
      ],
      "metadata": {
        "colab": {
          "base_uri": "https://localhost:8080/"
        },
        "id": "ppzObC6_xSww",
        "outputId": "7ae62ef7-94dc-4b76-9749-276f39baa1a1"
      },
      "execution_count": null,
      "outputs": [
        {
          "name": "stdout",
          "output_type": "stream",
          "text": [
            "Enter the taxi fare: $100\n",
            "Enter tip percentage: 30\n",
            "Enter number of passengers: 3\n",
            "\n",
            "Total fare (including tip): $130.00\n",
            "Each person should pay: $43.33\n",
            "\n",
            "Did anyone pay extra? (yes/no): no\n"
          ]
        }
      ]
    },
    {
      "cell_type": "markdown",
      "source": [
        "## 11.)Game Scoring System\n",
        "You are developing a scoring system for an online multiplayer game.Players earn points based on their actions in each round:Kills give high points.Assists contribute to teamwork.Completing objectives gives the most points.\n",
        "However, to make the game more competitive and fair, additional rules apply:A streak multiplier is given if a player performs 3 or more consecutive actions.A penalty is applied if a player is inactive (does nothing) for a round.The program calculates the final score based on these rules."
      ],
      "metadata": {
        "id": "XMDxSLnjxk5t"
      }
    },
    {
      "cell_type": "code",
      "source": [
        "# Function to calculate base score from actions\n",
        "def calculate_score(actions):\n",
        "    score = 0\n",
        "    for action in actions:\n",
        "        if action == \"kill\":\n",
        "            score += 100\n",
        "        elif action == \"assist\":\n",
        "            score += 50\n",
        "        elif action == \"objective\":\n",
        "            score += 150\n",
        "    return score\n",
        "\n",
        "# Function to apply streak bonus\n",
        "def apply_streak_bonus(score, streak_count):\n",
        "    if streak_count >= 3:\n",
        "        return score * 1.5  # 50% bonus for streaks\n",
        "    return score\n",
        "\n",
        "# Function to apply inactivity penalty without using max()\n",
        "def apply_inactivity_penalty(score, inactive_rounds):\n",
        "    penalty = inactive_rounds * 50  # 50 points deducted per inactive round\n",
        "    new_score = score - penalty  # Subtract penalty\n",
        "    if new_score < 0:  # Ensure score doesn't go below 0\n",
        "        new_score = 0\n",
        "    return new_score\n",
        "\n",
        "actions = input(\"Enter actions (kill/assist/objective) separated by space: \").split()\n",
        "streak_count = int(input(\"Enter streak count: \"))\n",
        "inactive_rounds = int(input(\"Enter number of inactive rounds: \"))\n",
        "\n",
        "# Score Calculation\n",
        "score = calculate_score(actions)\n",
        "score = apply_streak_bonus(score, streak_count)\n",
        "score = apply_inactivity_penalty(score, inactive_rounds)\n",
        "\n",
        "print(f\"Final Score: {score:.2f}\")"
      ],
      "metadata": {
        "colab": {
          "base_uri": "https://localhost:8080/"
        },
        "id": "D5Elp6fByJWr",
        "outputId": "624e25d5-da35-4af2-86bc-fdb8413b6c48"
      },
      "execution_count": null,
      "outputs": [
        {
          "output_type": "stream",
          "name": "stdout",
          "text": [
            "Enter actions (kill/assist/objective) separated by space: assist\n",
            "Enter streak count: 70\n",
            "Enter number of inactive rounds: 1000\n",
            "Final Score: 0.00\n"
          ]
        }
      ]
    },
    {
      "cell_type": "markdown",
      "source": [
        "## 12.)Checking for Duplicate Items in a List\n",
        "Suppose you are managing a warehouse inventory system where each product has a unique ID. Before updating the stock records, you must verify that no duplicate product IDs exist in the list. If any duplicates are found, they should be reported; otherwise, confirm that all product IDs are unique.\n",
        "\n"
      ],
      "metadata": {
        "id": "fdjqqKqtyaZl"
      }
    },
    {
      "cell_type": "code",
      "source": [
        "# Function to find duplicate product IDs\n",
        "def find_duplicates(items):\n",
        "    seen = []  # List to track seen items\n",
        "    duplicates = []  # List to store duplicate items\n",
        "\n",
        "    for item in items:\n",
        "        is_duplicate = False\n",
        "        # Check if item is already seen\n",
        "        for seen_item in seen:\n",
        "            if item == seen_item:\n",
        "                is_duplicate = True\n",
        "                break\n",
        "        # If duplicate, add to duplicates list if not already added\n",
        "        if is_duplicate:\n",
        "            already_in_duplicates = False\n",
        "            for dup in duplicates:\n",
        "                if item == dup:\n",
        "                    already_in_duplicates = True\n",
        "                    break\n",
        "            if not already_in_duplicates:\n",
        "                duplicates.append(item)\n",
        "        else:\n",
        "            seen.append(item)  # Add item to seen list\n",
        "\n",
        "    return duplicates  # Return list of duplicate items\n",
        "\n",
        "items = input(\"Enter product IDs separated by space: \").split()\n",
        "duplicates = find_duplicates(items)\n",
        "\n",
        "if len(duplicates) > 0:\n",
        "    print(\"Duplicate product IDs found: \" + \", \".join(duplicates))\n",
        "else:\n",
        "    print(\"No duplicate product IDs found.\")"
      ],
      "metadata": {
        "colab": {
          "base_uri": "https://localhost:8080/"
        },
        "id": "i9JxjgAcykV3",
        "outputId": "fca8f039-2c7c-4b9c-a705-a5bd0926a5c5"
      },
      "execution_count": null,
      "outputs": [
        {
          "output_type": "stream",
          "name": "stdout",
          "text": [
            "Enter product IDs separated by space: 12 12 12\n",
            "Duplicate product IDs found: 12\n"
          ]
        }
      ]
    },
    {
      "cell_type": "markdown",
      "source": [
        "## 13.) Movie Theater Seat Booking\n",
        "Imagine you are designing a seat booking system for a movie theater. The theater has 5 rows and 5 columns of seats. Some seats are already booked, and these are marked with “X”, while available seats are marked with Users should be able to:View the current seating arrangement.Enter a row and\n",
        "column number to check if a seat is available.Book multiple seats in one session until they decide to stop.See the updated seating chart after each booking.Construct the scenario using functions in Python."
      ],
      "metadata": {
        "id": "eryjYhBCzUGf"
      }
    },
    {
      "cell_type": "code",
      "source": [
        "# Function to display the seating arrangement\n",
        "def display_seats(seats):\n",
        "    print(\"\\nCurrent Seating Arrangement:\")\n",
        "    for row in seats:\n",
        "        for seat in row:\n",
        "            print(seat, end=\" \")  # Print seats in a row\n",
        "        print()  # Move to the next line\n",
        "\n",
        "# Function to check if a seat is available\n",
        "def is_seat_available(seats, row, col):\n",
        "    if seats[row][col] == \"O\":\n",
        "        return True\n",
        "    return False\n",
        "\n",
        "# Function to book a seat\n",
        "def book_seat(seats, row, col):\n",
        "    if is_seat_available(seats, row, col):\n",
        "        seats[row][col] = \"X\"\n",
        "        return True\n",
        "    return False\n",
        "\n",
        "# Initialize the seating chart (O = available, X = booked)\n",
        "seating = [\n",
        "    [\"O\", \"X\", \"O\", \"O\", \"X\"],\n",
        "    [\"O\", \"O\", \"X\", \"O\", \"O\"],\n",
        "    [\"X\", \"O\", \"O\", \"X\", \"O\"],\n",
        "    [\"O\", \"O\", \"X\", \"O\", \"X\"],\n",
        "    [\"O\", \"X\", \"O\", \"X\", \"O\"]\n",
        "]\n",
        "\n",
        "# Main program loop to allow multiple bookings\n",
        "while True:\n",
        "    display_seats(seating)\n",
        "\n",
        "    # User inputs row and column for booking\n",
        "    row = int(input(\"\\nEnter row (0-4): \"))\n",
        "    col = int(input(\"Enter column (0-4): \"))\n",
        "\n",
        "    # Validate input range\n",
        "    if row < 0 or row >= 5 or col < 0 or col >= 5:\n",
        "        print(\"Invalid seat selection. Please enter values between 0 and 4.\")\n",
        "        continue  # Restart loop\n",
        "\n",
        "    # Try to book the seat\n",
        "    if book_seat(seating, row, col):\n",
        "        print(\"Seat booked successfully!\")\n",
        "    else:\n",
        "        print(\"Sorry, this seat is already booked.\")\n",
        "\n",
        "    # Ask user if they want to continue\n",
        "    choice = input(\"Do you want to book another seat? (yes/no): \").strip().lower()\n",
        "    if choice != \"yes\":\n",
        "        break  # Exit loop\n",
        "\n",
        "display_seats(seating)\n",
        "print(\"\\nThank you for using the seat booking system!\")"
      ],
      "metadata": {
        "colab": {
          "base_uri": "https://localhost:8080/"
        },
        "id": "A8Z31wMazmS3",
        "outputId": "594c92f0-785d-4d55-d953-3d1ce95d93a8"
      },
      "execution_count": null,
      "outputs": [
        {
          "output_type": "stream",
          "name": "stdout",
          "text": [
            "\n",
            "Current Seating Arrangement:\n",
            "O X O O X \n",
            "O O X O O \n",
            "X O O X O \n",
            "O O X O X \n",
            "O X O X O \n",
            "\n",
            "Enter row (0-4): 2\n",
            "Enter column (0-4): 2\n",
            "Seat booked successfully!\n",
            "Do you want to book another seat? (yes/no): no\n",
            "\n",
            "Current Seating Arrangement:\n",
            "O X O O X \n",
            "O O X O O \n",
            "X O X X O \n",
            "O O X O X \n",
            "O X O X O \n",
            "\n",
            "Thank you for using the seat booking system!\n"
          ]
        }
      ]
    },
    {
      "cell_type": "markdown",
      "source": [
        "## 14.)The Dice Game\n",
        "Imagine playing a dice game with friends where you roll two dice (1-6). Your score is the sum of both dice, but if you roll the same number, it’s a double, and you get a bonus message! Write a function roll_dice to generate two random dice rolls, calculate their sum, and print “You rolled a double!” if both numbers match.\n"
      ],
      "metadata": {
        "id": "odIIv1qg0GuA"
      }
    },
    {
      "cell_type": "code",
      "source": [
        "import random  # Import the random module for dice rolling\n",
        "\n",
        "def roll_dice():\n",
        "    dice1 = random.randint(1, 6)  # Roll first dice\n",
        "    dice2 = random.randint(1, 6)  # Roll second dice\n",
        "    total = dice1 + dice2  # Calculate sum of dice\n",
        "\n",
        "    if dice1 == dice2:  # Check for double\n",
        "        print(\"You rolled a double!\")\n",
        "\n",
        "    return total  # Return total score\n",
        "\n",
        "print(\"Your total score:\", roll_dice())"
      ],
      "metadata": {
        "colab": {
          "base_uri": "https://localhost:8080/"
        },
        "id": "o4pMO3Gt0Pmq",
        "outputId": "7e0ce26d-611d-4290-e1fc-e8d688ba673c"
      },
      "execution_count": null,
      "outputs": [
        {
          "output_type": "stream",
          "name": "stdout",
          "text": [
            "You rolled a double!\n",
            "Your total score: 12\n"
          ]
        }
      ]
    }
  ]
}